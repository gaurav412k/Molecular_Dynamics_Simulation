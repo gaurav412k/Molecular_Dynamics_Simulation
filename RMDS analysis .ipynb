{
 "cells": [
  {
   "cell_type": "markdown",
   "id": "96df27c9",
   "metadata": {},
   "source": [
    "# Batch Files\n"
   ]
  },
  {
   "cell_type": "code",
   "execution_count": 39,
   "id": "3e2e4fae",
   "metadata": {},
   "outputs": [
    {
     "data": {
      "text/plain": [
       "'/media/gaurav/External SSD/PROJECT/Analysis/RMSD'"
      ]
     },
     "execution_count": 39,
     "metadata": {},
     "output_type": "execute_result"
    }
   ],
   "source": [
    "import pandas as pd \n",
    "import numpy as np\n",
    "import os \n",
    "os.getcwd()"
   ]
  },
  {
   "cell_type": "code",
   "execution_count": 41,
   "id": "599252e5",
   "metadata": {},
   "outputs": [],
   "source": [
    "# set directory where all \".xvg\" RMSD files are located\n",
    "cd ana"
   ]
  },
  {
   "cell_type": "code",
   "execution_count": 45,
   "id": "b54f0f1b",
   "metadata": {},
   "outputs": [
    {
     "name": "stdout",
     "output_type": "stream",
     "text": [
      "RMSD MEAN OF  tdp1.txt  :  0.6034550514148586\n",
      "RMSD MEAN OF  tdp_n267s.txt  :  0.6328981431556845\n",
      "RMSD MEAN OF  tdp_n267s_rna.txt  :  0.49371962302769723\n",
      "RMSD MEAN OF  tdp_p112h.txt  :  0.6091899864913509\n",
      "RMSD MEAN OF  tdp_p112h_n267s.txt  :  0.6998836929907009\n",
      "RMSD MEAN OF  tdp_p112h_n267s_RNA.txt  :  0.5220140620337966\n",
      "RMSD MEAN OF  tdp_p112h_rna.txt  :  0.5336582389461054\n",
      "RMSD MEAN OF  tdp_rna.txt  :  0.45722472596740327\n"
     ]
    }
   ],
   "source": [
    "files = os.listdir()\n",
    "for i in files :         \n",
    "    tx =open(i,'r')\n",
    "    text = tx.read()\n",
    "    tx.close()\n",
    "\n",
    "    data = text.split(sep =\"\\n\")\n",
    "\n",
    "    d1 = [line for line in data if not line.startswith(('#', '@', '&'))]\n",
    "\n",
    "    df = pd.DataFrame(data = d1)\n",
    "    df[['Time','RMSD']] = df[0].str.split(' ',expand = True) \n",
    "\n",
    "    df['Time']= pd.to_numeric(df['Time'])\n",
    "    df['RMSD']= pd.to_numeric(df['RMSD'])\n",
    "\n",
    "    df.pop(0)\n",
    "\n",
    "    print(\"RMSD MEAN OF \",i,\" : \",df[\"RMSD\"].mean())"
   ]
  },
  {
   "cell_type": "markdown",
   "id": "d9f33395",
   "metadata": {},
   "source": [
    "# Individual File "
   ]
  },
  {
   "cell_type": "code",
   "execution_count": 47,
   "id": "854b1739",
   "metadata": {},
   "outputs": [
    {
     "name": "stdout",
     "output_type": "stream",
     "text": [
      "RMSD MEAN OF  tdp1.txt  :  0.6034550514148586\n"
     ]
    }
   ],
   "source": [
    "i = \"tdp1.txt\"          #Input file name\n",
    "tx =open(i,'r')\n",
    "text = tx.read()\n",
    "tx.close()\n",
    "\n",
    "data = text.split(sep =\"\\n\")\n",
    "    \n",
    "d1 = [line for line in data if not line.startswith(('#', '@', '&'))]\n",
    "    \n",
    "df = pd.DataFrame(data = d1)\n",
    "df[['Time','RMSD']] = df[0].str.split(' ',expand = True) \n",
    "    \n",
    "df['Time']= pd.to_numeric(df['Time'])\n",
    "df['RMSD']= pd.to_numeric(df['RMSD'])\n",
    "    \n",
    "df.pop(0)\n",
    "    \n",
    "print(\"RMSD MEAN OF \",i,\" : \",df[\"RMSD\"].mean())"
   ]
  },
  {
   "cell_type": "code",
   "execution_count": null,
   "id": "60014878",
   "metadata": {},
   "outputs": [],
   "source": []
  }
 ],
 "metadata": {
  "kernelspec": {
   "display_name": "Python 3 (ipykernel)",
   "language": "python",
   "name": "python3"
  },
  "language_info": {
   "codemirror_mode": {
    "name": "ipython",
    "version": 3
   },
   "file_extension": ".py",
   "mimetype": "text/x-python",
   "name": "python",
   "nbconvert_exporter": "python",
   "pygments_lexer": "ipython3",
   "version": "3.11.4"
  }
 },
 "nbformat": 4,
 "nbformat_minor": 5
}
